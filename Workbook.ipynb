{
 "cells": [
  {
   "cell_type": "code",
   "execution_count": null,
   "metadata": {},
   "outputs": [],
   "source": [
    "from src.analytics_connection import AnalyticsConnection\n",
    "from src.report import Report\n",
    "\n",
    "name = \"product_performance\"\n",
    "category = \"conversions\"\n",
    "\n",
    "client = AnalyticsConnection()\n",
    "report = Report(from_json_file_name=f\"reports/{category}/{name}.json\")\n",
    "df = client.getAllData(report)\n",
    "df.to_csv(f\"data/{category}/{name}.csv\")\n",
    "\n",
    "\n",
    "\n",
    "\n"
   ]
  }
 ],
 "metadata": {
  "kernelspec": {
   "display_name": "Google_Analytics_Historical_Data-GbAbLYeA",
   "language": "python",
   "name": "python3"
  },
  "language_info": {
   "codemirror_mode": {
    "name": "ipython",
    "version": 3
   },
   "file_extension": ".py",
   "mimetype": "text/x-python",
   "name": "python",
   "nbconvert_exporter": "python",
   "pygments_lexer": "ipython3",
   "version": "3.11.2"
  },
  "orig_nbformat": 4
 },
 "nbformat": 4,
 "nbformat_minor": 2
}
