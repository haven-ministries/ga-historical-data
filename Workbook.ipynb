{
 "cells": [
  {
   "cell_type": "code",
   "execution_count": 1,
   "metadata": {},
   "outputs": [],
   "source": [
    "from src.analytics_connection import AnalyticsConnection\n",
    "from src.report import Report\n",
    "client = AnalyticsConnection()"
   ]
  },
  {
   "cell_type": "code",
   "execution_count": 2,
   "metadata": {},
   "outputs": [
    {
     "name": "stdout",
     "output_type": "stream",
     "text": [
      "+------------------------------------------------+\n",
      "| (Behavior) All Pages                           |\n",
      "| 2005-01-01 - 2023-07-01                        |\n",
      "|                                                |\n",
      "| Dimensions:                                    |\n",
      "|     - landingPagePath                          |\n",
      "|     - date                                     |\n",
      "|                                                |\n",
      "| Metrics:                                       |\n",
      "|     - newUsers            avgSessionDuration   |\n",
      "|     - percentNewSessions  pageviews            |\n",
      "|     - sessions            transactions         |\n",
      "|     - bounceRate          transactionRevenue   |\n",
      "|                                                |\n",
      "| Filters:                                       |\n",
      "|     - landingPagePath doesn't equal \"/\"        |\n",
      "| AND                                            |\n",
      "|     - landingPagePath doesn't begin with \"/?\"  |\n",
      "+------------------------------------------------+\n"
     ]
    }
   ],
   "source": [
    "import json\n",
    "report = Report(from_json_file_name=\"reports/all_pages.json\")\n",
    "print(report)"
   ]
  }
 ],
 "metadata": {
  "kernelspec": {
   "display_name": "Google_Analytics_Historical_Data-GbAbLYeA",
   "language": "python",
   "name": "python3"
  },
  "language_info": {
   "codemirror_mode": {
    "name": "ipython",
    "version": 3
   },
   "file_extension": ".py",
   "mimetype": "text/x-python",
   "name": "python",
   "nbconvert_exporter": "python",
   "pygments_lexer": "ipython3",
   "version": "3.11.2"
  },
  "orig_nbformat": 4
 },
 "nbformat": 4,
 "nbformat_minor": 2
}
