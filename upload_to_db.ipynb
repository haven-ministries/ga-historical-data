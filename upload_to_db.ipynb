{
 "cells": [
  {
   "cell_type": "code",
   "execution_count": 43,
   "metadata": {},
   "outputs": [
    {
     "name": "stdout",
     "output_type": "stream",
     "text": [
      "9332 records to upload...\n",
      "Done!\n"
     ]
    }
   ],
   "source": [
    "import dask.dataframe as dd\n",
    "import pandas as pd\n",
    "import numpy as np\n",
    "from dotenv import load_dotenv\n",
    "from sqlalchemy import create_engine, text\n",
    "from os import getenv\n",
    "import re\n",
    "\n",
    "load_dotenv()\n",
    "database_url = getenv(\"DATABASE_URL\")\n",
    "\n",
    "table_name = 'product_performance'\n",
    "category = 'conversions'\n",
    "\n",
    "data_types = {\n",
    "    'ga:productSku': 'object',\n",
    "    'ga:productName': 'object',\n",
    "    'ga:productCategory': 'object',\n",
    "    'ga:date': 'object',\n",
    "    'ga:itemRevenue': 'float64',\n",
    "    'ga:uniquePurchases': 'int64',\n",
    "    'ga:itemQuantity': 'int64',\n",
    "    'view_name': 'object'\n",
    "}\n",
    "\n",
    "df = pd.read_csv(f\"data/{category}/{table_name}.csv\", dtype=data_types)\n",
    "\n",
    "for col in data_types.keys():\n",
    "    if col not in df.columns:\n",
    "        print(f'Column {col} not found in the dataset')\n",
    "    assert col in df.columns\n",
    "\n",
    "# df.columns = df.columns.str.replace('Unnamed: 0', 'id').replace('ga:', '')\n",
    "df.columns = df.columns.str.replace('Unnamed: 0', 'id')\n",
    "df.columns = df.columns.str.replace('ga:', '')\n",
    "df.columns = df.columns.map(lambda x: re.sub(r'([A-Z])', r'_\\1', x).lower())\n",
    "\n",
    "df['date'] = pd.to_datetime(df['date'], format='%Y%m%d')\n",
    "\n",
    "\n",
    "print(f'{len(df)} records to upload...')\n",
    "\n",
    "\n",
    "df.to_sql(table_name, database_url, if_exists='replace', chunksize=50000, index=False)\n",
    "\n",
    "print('Done!')"
   ]
  }
 ],
 "metadata": {
  "kernelspec": {
   "display_name": "Google_Analytics_Historical_Data-GbAbLYeA",
   "language": "python",
   "name": "python3"
  },
  "language_info": {
   "codemirror_mode": {
    "name": "ipython",
    "version": 3
   },
   "file_extension": ".py",
   "mimetype": "text/x-python",
   "name": "python",
   "nbconvert_exporter": "python",
   "pygments_lexer": "ipython3",
   "version": "3.11.4"
  },
  "orig_nbformat": 4
 },
 "nbformat": 4,
 "nbformat_minor": 2
}
